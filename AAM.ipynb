{
 "cells": [
  {
   "cell_type": "markdown",
   "metadata": {
    "collapsed": true
   },
   "source": [
    "## Compute Global Relative Atmospheric Angular Momentum From CFS Reanalysis Data\n",
    "###### Inputs: 0.5 deg lat/lon grid data obtained from CFS Reanalysis (CFSR)\t\t\t\t\n",
    "###### Outputs: Global Relative Atmospheric Angular Momentum kg*m^2/s (average value is 3 * 10^26 kg*m^2\n",
    "### Created by: Victor Gensini (Fall 2016)\t\t\t\t\t\t\t\t"
   ]
  },
  {
   "cell_type": "code",
   "execution_count": 1,
   "metadata": {
    "collapsed": true
   },
   "outputs": [],
   "source": [
    "import numpy as np\n",
    "import math, pygrib\n",
    "import matplotlib.pyplot as plt"
   ]
  },
  {
   "cell_type": "code",
   "execution_count": 2,
   "metadata": {
    "collapsed": true
   },
   "outputs": [],
   "source": [
    "pi = math.pi\n",
    "rad = pi/180.\n",
    "twopi = 2.*pi\n",
    "gravity = 9.81\n",
    "radius_E = 6371220.\n",
    "radius_E3 = radius_E**3"
   ]
  },
  {
   "cell_type": "markdown",
   "metadata": {},
   "source": [
    "### Open a CFSR grib2 file"
   ]
  },
  {
   "cell_type": "code",
   "execution_count": 3,
   "metadata": {
    "collapsed": true
   },
   "outputs": [],
   "source": [
    "gr = pygrib.open('/home/vgensini/data/CFSR/cfsr_199405.grb2')"
   ]
  },
  {
   "cell_type": "markdown",
   "metadata": {},
   "source": [
    "### Read in all U-component (i.e., zonal) wind values and select your datetime"
   ]
  },
  {
   "cell_type": "code",
   "execution_count": 4,
   "metadata": {
    "collapsed": true
   },
   "outputs": [],
   "source": [
    "umsgs = gr.select(name='U component of wind',typeOfLevel='isobaricInhPa', year=1994,month=5,day=23, hour=0)"
   ]
  },
  {
   "cell_type": "code",
   "execution_count": 5,
   "metadata": {
    "collapsed": true
   },
   "outputs": [],
   "source": [
    "lats,lons = umsgs[0].latlons()"
   ]
  },
  {
   "cell_type": "code",
   "execution_count": 6,
   "metadata": {
    "collapsed": true
   },
   "outputs": [],
   "source": [
    "uwnd = np.zeros((361, 720, 37))\n",
    "for i,levs in enumerate(umsgs):\n",
    "    uwnd[:,:,i] = levs.values"
   ]
  },
  {
   "cell_type": "code",
   "execution_count": 7,
   "metadata": {
    "collapsed": true
   },
   "outputs": [],
   "source": [
    "dps=[0.,100.,200.,200.,300.,1000.,1000.,2000.,2000.,3000.,2500.,2500.,2500.,2500.,2500.,2500.,5000.,5000.,5000.,5000.,5000.,5000.,5000.,5000.,5000.,5000.,2500.,2500.,2500.,2500.,2500.,2500.,2500.,2500.,2500.,2500.,0.]\n",
    "dps = np.tile(np.array(dps),(361,720,1))\n",
    "UDP = np.multiply(uwnd,dps)\n",
    "moment = np.mean(UDP, axis=(1,2))\n",
    "aam = np.multiply(np.multiply(moment,np.cos(lats[:,0]*rad)),twopi*radius_E3/gravity)"
   ]
  },
  {
   "cell_type": "code",
   "execution_count": 8,
   "metadata": {
    "collapsed": false
   },
   "outputs": [
    {
     "name": "stdout",
     "output_type": "stream",
     "text": [
      "6.54923297697e+26\n"
     ]
    }
   ],
   "source": [
    "print np.sum(aam)"
   ]
  },
  {
   "cell_type": "code",
   "execution_count": 9,
   "metadata": {
    "collapsed": false
   },
   "outputs": [
    {
     "data": {
      "image/png": "[encoded data removed]",
      "text/plain": [
       "<matplotlib.figure.Figure at 0x7fecce091890>"
      ]
     },
     "metadata": {},
     "output_type": "display_data"
    }
   ],
   "source": [
    "plt.plot(lats[:,0],aam)\n",
    "plt.show()"
   ]
  }
 ],
 "metadata": {
  "anaconda-cloud": {},
  "kernelspec": {
   "display_name": "Python [conda root]",
   "language": "python",
   "name": "conda-root-py"
  },
  "language_info": {
   "codemirror_mode": {
    "name": "ipython",
    "version": 2
   },
   "file_extension": ".py",
   "mimetype": "text/x-python",
   "name": "python",
   "nbconvert_exporter": "python",
   "pygments_lexer": "ipython2",
   "version": "2.7.12"
  }
 },
 "nbformat": 4,
 "nbformat_minor": 1
}
