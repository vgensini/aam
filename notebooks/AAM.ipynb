{
 "cells": [
  {
   "cell_type": "markdown",
   "metadata": {
    "collapsed": true
   },
   "source": [
    "## Compute Atmospheric Relative Angular Momentum from CFSR Data\n",
    "###### Inputs: 0.5 deg lat/lon grib2 data obtained from CFS Reanalysis (CFSR); need u-wind at all pressure levels 1000-1 hPa\t\t\t\n",
    "###### Outputs: Global Relative Atmospheric Angular Momentum  with units:\n",
    "$$kg \\cdot m^2 \\cdot s^{-1}$$\n",
    "##### Created by: Dr. Victor Gensini (Fall 2016) | weather.cod.edu/~vgensini\t\t\t\t\t\t\t\t"
   ]
  },
  {
   "cell_type": "code",
   "execution_count": 1,
   "metadata": {
    "collapsed": true
   },
   "outputs": [],
   "source": [
    "#Import neccessary Python libraries (this example uses Python 2.7)\n",
    "import numpy as np\n",
    "import math, pygrib\n",
    "import matplotlib.pyplot as plt"
   ]
  },
  {
   "cell_type": "code",
   "execution_count": 2,
   "metadata": {
    "collapsed": false
   },
   "outputs": [],
   "source": [
    "#Declare physical constants\n",
    "pi = math.pi #Pi\n",
    "rad = pi/180. #radians\n",
    "gravity = 9.81 #gravitational acceleration ms^-2\n",
    "earth_r = 6371220. #Earth's radius in (m)"
   ]
  },
  {
   "cell_type": "markdown",
   "metadata": {},
   "source": [
    "### Pick a datetime for calculation (valid 1979-2010)"
   ]
  },
  {
   "cell_type": "code",
   "execution_count": 3,
   "metadata": {
    "collapsed": true
   },
   "outputs": [],
   "source": [
    "year = 2004 #1979-2010\n",
    "month = 4 #1-12\n",
    "day = 20 #1-28/29/30/31\n",
    "hour = 18 #0,6,12,18"
   ]
  },
  {
   "cell_type": "markdown",
   "metadata": {},
   "source": [
    "### Open a CFSR grib2 file\n",
    "##### Data for this example obtained from: http://rda.ucar.edu/datasets/ds093.0/\n",
    "##### 6-hourly pressure level data also available from: http://nomads.ncdc.noaa.gov/modeldata/cmd_pgbh/"
   ]
  },
  {
   "cell_type": "code",
   "execution_count": 4,
   "metadata": {
    "collapsed": true
   },
   "outputs": [],
   "source": [
    "#I've concatenated CFSR 6-hrly data into monthly chunks following a format of <cfsr_YYYYMM.grb2>\n",
    "data_file = '/home/vgensini/data/CFSR/cfsr_'+str(year)+str('%02d'%month)+'.grb2'"
   ]
  },
  {
   "cell_type": "code",
   "execution_count": 5,
   "metadata": {
    "collapsed": false
   },
   "outputs": [],
   "source": [
    "gr = pygrib.open(data_file) #Read CFSR grib2 file containing u-winds at all pressure levels into memory"
   ]
  },
  {
   "cell_type": "markdown",
   "metadata": {},
   "source": [
    "### Read in all U-component (i.e., zonal) wind values"
   ]
  },
  {
   "cell_type": "code",
   "execution_count": 6,
   "metadata": {
    "collapsed": true
   },
   "outputs": [],
   "source": [
    "umsgs = gr.select(name='U component of wind',typeOfLevel='isobaricInhPa', year=year,month=month,day=day, hour=hour)"
   ]
  },
  {
   "cell_type": "code",
   "execution_count": 7,
   "metadata": {
    "collapsed": true
   },
   "outputs": [],
   "source": [
    "lats,lons = umsgs[0].latlons() #Read the lat/lon information from the u-wind grib2 message"
   ]
  },
  {
   "cell_type": "code",
   "execution_count": 8,
   "metadata": {
    "collapsed": true
   },
   "outputs": [],
   "source": [
    "uwnd = np.zeros((361, 720, 37)) #Could do some fancy dynamic shape finding here\n",
    "for i,levs in enumerate(umsgs): #CFSR 0.5 data is x-720,y-361,z-37\n",
    "    uwnd[:,:,i] = levs.values   #Read zonal wind into a 3-D NumPy array"
   ]
  },
  {
   "cell_type": "code",
   "execution_count": 9,
   "metadata": {
    "collapsed": false
   },
   "outputs": [],
   "source": [
    "#dp is difference between CFSR pressure levels in Pa; set lowest and highest dp to zero as they are at integral bounds\n",
    "#Vertical level information can be found here: http://rda.ucar.edu/datasets/ds093.0/#metadata/detailed.html?_do=y\n",
    "dps=[0.,100.,200.,200.,300.,1000.,1000.,2000.,2000.,3000.,2500.,2500.,2500.,2500.,2500.,2500.,5000.,5000.,5000.,5000.,5000.,5000.,5000.,5000.,5000.,5000.,2500.,2500.,2500.,2500.,2500.,2500.,2500.,2500.,2500.,2500.,0.]\n",
    "dps = np.tile(np.array(dps),(361,720,1)) #Create a 3-D NumPy array of dp values"
   ]
  },
  {
   "cell_type": "markdown",
   "metadata": {},
   "source": [
    "### Calculations\n",
    "$$M_R=\\int\\limits_{-\\frac\\pi2}^{\\frac\\pi2}a\\cos\\phi{d}\\phi\\int\\limits_0^{2\\pi}ad\\lambda\\int\\limits_1^{1000}au\\cos\\phi{dp}/g$$\n",
    "#### Or, more simply...\n",
    "$$M_R=\\frac{a^3}g\\int\\limits_{-\\frac\\pi2}^{\\frac\\pi2}\\int\\limits_0^{2\\pi}\\int\\limits_1^{1000}\\cos^2\\phi{d}\\phi{d}\\lambda{udp}$$"
   ]
  },
  {
   "cell_type": "code",
   "execution_count": 10,
   "metadata": {
    "collapsed": false
   },
   "outputs": [],
   "source": [
    "UDP = np.multiply(uwnd,dps) #Calculate UDP\n",
    "level_UDP = np.sum(UDP, axis=(2)) #Sum across all levels\n",
    "zonalavg_UDP = np.mean(level_UDP, axis=(1)) #Zonal mean across all longitudes\n",
    "dlat = 0.5 * rad #Latitude delta in radians (0.5 lat/lon grid spacing for this dataset)\n",
    "aam = zonalavg_UDP * np.cos(lats[:,0] * rad) * np.cos(lats[:,0] * rad) * dlat * 2.* pi * earth_r**3 / gravity #Calculate AAM"
   ]
  },
  {
   "cell_type": "markdown",
   "metadata": {},
   "source": [
    "### Result\n",
    "##### aam represents the atmosphere's relative angular momentum by latitude (361 values in this example)"
   ]
  },
  {
   "cell_type": "code",
   "execution_count": 11,
   "metadata": {
    "collapsed": false
   },
   "outputs": [
    {
     "name": "stdout",
     "output_type": "stream",
     "text": [
      "1.63095174866e+26\n"
     ]
    }
   ],
   "source": [
    "print np.sum(aam) #Sum all latitudes to get total AAM"
   ]
  },
  {
   "cell_type": "markdown",
   "metadata": {},
   "source": [
    "### Create a plot"
   ]
  },
  {
   "cell_type": "code",
   "execution_count": 12,
   "metadata": {
    "collapsed": false
   },
   "outputs": [
    {
     "data": {
      "image/png": "[encoded data removed]",
      "text/plain": [
       "<matplotlib.figure.Figure at 0x7fece3629850>"
      ]
     },
     "metadata": {},
     "output_type": "display_data"
    }
   ],
   "source": [
    "#plt.plot(lats[:,0],aam) # plot latitude (x-axis) by global relative aam (y-axis)\n",
    "plt.plot(lats[:,0],aam)\n",
    "plt.title(r\"$M_R$\" ' by Latitude for ' +str(month)+'-'+str(day)+'-'+str(year)+' '+str('%02d'%hour)+'Z') #Make a title\n",
    "plt.xlabel(r\"$\\phi$\") #Label x-axis\n",
    "plt.ylabel(r\"$M_R$\"+'  '+r\"$(kg \\cdot m^2 \\cdot s^{-1})$\") #Label y-axis\n",
    "plt.xlim(-90,90) #Set limits on the x-axis\n",
    "plt.xticks(np.arange(-90,110,20)) #Set x-axis ticks every 20 deg\n",
    "plt.tight_layout() #Make a nice layout\n",
    "bbox_props = dict(boxstyle=\"round\", fc=\"w\", ec=\"0.5\", alpha=0.7)\n",
    "plt.annotate('Total AMM = '+'{:e}'.format(np.sum(aam)),xycoords='figure fraction', xytext=(.8,0.95),xy=(.8,0.95), textcoords='axes fraction',ha=\"center\", va=\"center\", size=8,bbox=bbox_props) #Annotate total AAM on the plot\n",
    "plt.show() #Display the plot"
   ]
  }
 ],
 "metadata": {
  "anaconda-cloud": {},
  "kernelspec": {
   "display_name": "Python [conda root]",
   "language": "python",
   "name": "conda-root-py"
  },
  "language_info": {
   "codemirror_mode": {
    "name": "ipython",
    "version": 2
   },
   "file_extension": ".py",
   "mimetype": "text/x-python",
   "name": "python",
   "nbconvert_exporter": "python",
   "pygments_lexer": "ipython2",
   "version": "2.7.12"
  }
 },
 "nbformat": 4,
 "nbformat_minor": 1
}
