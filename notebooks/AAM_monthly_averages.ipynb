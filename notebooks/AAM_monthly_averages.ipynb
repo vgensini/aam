{
 "cells": [
  {
   "cell_type": "markdown",
   "metadata": {
    "collapsed": true
   },
   "source": [
    "## Monthly Averages of Earth's Relative Atmospheric Angular Momentum\n",
    "###### Inputs: aam_climo.csv (created using the AAM.ipynb found in this repository)\n",
    "##### Created by: Dr. Victor Gensini (Fall 2016) | http://weather.cod.edu/~vgensini\n",
    "##### More information can be found here: http://nbviewer.jupyter.org/github/vgensini/aam/blob/master/notebooks/AAM_climo.ipynb\n",
    "##### Relative AAM is calculated following:\n",
    "$$M_R=\\frac{a^3}g\\int\\limits_{-\\frac\\pi2}^{\\frac\\pi2}\\int\\limits_0^{2\\pi}\\int\\limits_1^{1000}\\cos^2\\phi{d}\\phi{d}\\lambda{udp}$$"
   ]
  },
  {
   "cell_type": "code",
   "execution_count": 33,
   "metadata": {
    "collapsed": true
   },
   "outputs": [],
   "source": [
    "#Import neccessary Python libraries (this example uses Python 2.7)\n",
    "import numpy as np\n",
    "import pandas as pd\n",
    "import plotly.plotly as py\n",
    "import plotly.graph_objs as go"
   ]
  },
  {
   "cell_type": "markdown",
   "metadata": {},
   "source": [
    "### Read in relative AAM climatology file\n",
    "##### 6-hourly climatology file (aam_climo.csv) which can be found in this repository: https://github.com/vgensini/aam\n",
    "##### csv headers = date (YYYY-MM-DD-HH), aam (kg m^2 s^-1)"
   ]
  },
  {
   "cell_type": "code",
   "execution_count": 34,
   "metadata": {
    "collapsed": false,
    "scrolled": true
   },
   "outputs": [
    {
     "data": {
      "text/html": [
       "<iframe id=\"igraph\" scrolling=\"no\" style=\"border:none;\" seamless=\"seamless\" src=\"https://plot.ly/~vgensini/46.embed\" height=\"525px\" width=\"100%\"></iframe>"
      ],
      "text/plain": [
       "<plotly.tools.PlotlyDisplay object>"
      ]
     },
     "execution_count": 34,
     "metadata": {},
     "output_type": "execute_result"
    }
   ],
   "source": [
    "df = pd.read_csv('/home/scripts/aam/aam_code/aam_climo.csv')\n",
    "#print df\n",
    "format = '%Y-%m-%d-%H'\n",
    "df['date']=pd.to_datetime(df['date'], format=format)\n",
    "df=df.set_index(pd.DatetimeIndex(df['date']))\n",
    "df['yr'], df['mn'], df['dy'], df['hr'] = df['date'].dt.year, df['date'].dt.month, df['date'].dt.day, df['date'].dt.hour\n",
    "vals=[]\n",
    "for months in np.arange(1,13,1):\n",
    "    vals.append(df.aam[(df.mn==months)].mean())\n",
    "aam = go.Scatter( x=np.arange(1,13,1), y=vals,name='Monthly mean AAM' )\n",
    "data = [aam]\n",
    "layout = go.Layout(title='Average Monthly Global Relative AAM Values from CFSR (1979-2010)',yaxis=dict(title='$$kg \\\\cdot m^2 \\\\cdot s^{-1}$$'))\n",
    "fig = go.Figure(data=data, layout=layout)\n",
    "py.iplot(fig)"
   ]
  }
 ],
 "metadata": {
  "anaconda-cloud": {},
  "kernelspec": {
   "display_name": "Python [conda root]",
   "language": "python",
   "name": "conda-root-py"
  },
  "language_info": {
   "codemirror_mode": {
    "name": "ipython",
    "version": 2
   },
   "file_extension": ".py",
   "mimetype": "text/x-python",
   "name": "python",
   "nbconvert_exporter": "python",
   "pygments_lexer": "ipython2",
   "version": "2.7.12"
  }
 },
 "nbformat": 4,
 "nbformat_minor": 1
}
