{
 "cells": [
  {
   "cell_type": "markdown",
   "metadata": {
    "collapsed": true
   },
   "source": [
    "## Compute Atmospheric Relative Angular Momentum Forecast from CFSv2 Data\n",
    "###### Inputs: CFSv2 1 deg lat/lon grib2 data obtained from NCEP NOMADS; need u-wind at all pressure levels 1000-1 hPa\t\t\t\n",
    "###### Outputs: Global Relative Atmospheric Angular Momentum Standardized Anomaly Forecast\n",
    "##### Created by: Dr. Victor Gensini (Spring 2017) | weather.cod.edu/~vgensini\t\t\t\t\t\t\t\t"
   ]
  },
  {
   "cell_type": "code",
   "execution_count": 111,
   "metadata": {
    "collapsed": true
   },
   "outputs": [],
   "source": [
    "#Import neccessary Python libraries (this example uses Python 2.7)\n",
    "import numpy as np\n",
    "import math, pygrib\n",
    "import matplotlib.pyplot as plt\n",
    "import pandas as pd"
   ]
  },
  {
   "cell_type": "code",
   "execution_count": 112,
   "metadata": {
    "collapsed": false
   },
   "outputs": [],
   "source": [
    "#Declare physical constants\n",
    "pi = math.pi #Pi\n",
    "rad = pi/180. #radians\n",
    "gravity = 9.81 #gravitational acceleration ms^-2\n",
    "earth_r = 6371220. #Earth's radius in (m)"
   ]
  },
  {
   "cell_type": "markdown",
   "metadata": {},
   "source": [
    "### Open a CFSv2 grib2 forecast file\n",
    "##### Data for this example obtained from: http://nomads.ncep.noaa.gov/pub/data/nccf/com/cfs/prod/cfs/"
   ]
  },
  {
   "cell_type": "code",
   "execution_count": 113,
   "metadata": {
    "collapsed": true
   },
   "outputs": [],
   "source": [
    "data_file = '/home/vgensini/data/cfsv2.grb2'"
   ]
  },
  {
   "cell_type": "code",
   "execution_count": 114,
   "metadata": {
    "collapsed": false
   },
   "outputs": [],
   "source": [
    "gr = pygrib.open(data_file) #Read CFSR grib2 file containing u-winds at all pressure levels into memory"
   ]
  },
  {
   "cell_type": "markdown",
   "metadata": {},
   "source": [
    "### Read in all U-component (i.e., zonal) wind values"
   ]
  },
  {
   "cell_type": "code",
   "execution_count": 115,
   "metadata": {
    "collapsed": true
   },
   "outputs": [],
   "source": [
    "year = 2017 #1979-2010\n",
    "month = 5 #1-12\n",
    "day = 20 #1-28/29/30/31\n",
    "hour = 0 #0,6,12,18"
   ]
  },
  {
   "cell_type": "code",
   "execution_count": 116,
   "metadata": {
    "collapsed": false
   },
   "outputs": [],
   "source": [
    "umsgs = gr.select(name='U component of wind',typeOfLevel='isobaricInhPa')"
   ]
  },
  {
   "cell_type": "code",
   "execution_count": 117,
   "metadata": {
    "collapsed": true
   },
   "outputs": [],
   "source": [
    "lats,lons = umsgs[0].latlons() #Read the lat/lon information from the u-wind grib2 message"
   ]
  },
  {
   "cell_type": "code",
   "execution_count": 118,
   "metadata": {
    "collapsed": true
   },
   "outputs": [],
   "source": [
    "uwnd = np.zeros((181, 360, 37)) #Could do some fancy dynamic shape finding here\n",
    "for i,levs in enumerate(umsgs): #CFSv2 1.0 deg data is x-360,y-181,z-37\n",
    "    uwnd[:,:,i] = levs.values   #Read zonal wind into a 3-D NumPy array"
   ]
  },
  {
   "cell_type": "code",
   "execution_count": 119,
   "metadata": {
    "collapsed": false
   },
   "outputs": [],
   "source": [
    "#dp is difference between CFSR pressure levels in Pa; set lowest and highest dp to zero as they are at integral bounds\n",
    "#Vertical level information can be found here: http://rda.ucar.edu/datasets/ds093.0/#metadata/detailed.html?_do=y\n",
    "dps=[0.,100.,200.,200.,300.,1000.,1000.,2000.,2000.,3000.,2500.,2500.,2500.,2500.,2500.,2500.,5000.,5000.,5000.,5000.,5000.,5000.,5000.,5000.,5000.,5000.,2500.,2500.,2500.,2500.,2500.,2500.,2500.,2500.,2500.,2500.,0.]\n",
    "dps = np.tile(np.array(dps),(181,360,1)) #Create a 3-D NumPy array of dp values"
   ]
  },
  {
   "cell_type": "markdown",
   "metadata": {},
   "source": [
    "### Calculations\n",
    "\n",
    "$$M_R=\\frac{a^3}g\\int\\limits_{-\\frac\\pi2}^{\\frac\\pi2}\\int\\limits_0^{2\\pi}\\int\\limits_1^{1000}\\cos^2\\phi{d}\\phi{d}\\lambda{udp}$$"
   ]
  },
  {
   "cell_type": "code",
   "execution_count": 120,
   "metadata": {
    "collapsed": false
   },
   "outputs": [],
   "source": [
    "UDP = np.multiply(uwnd,dps) #Calculate UDP\n",
    "level_UDP = np.sum(UDP, axis=(2)) #Sum across all levels\n",
    "zonalavg_UDP = np.mean(level_UDP, axis=(1)) #Zonal mean across all longitudes\n",
    "dlat = 1.0 * rad #Latitude delta in radians (1.0 deg lat/lon grid spacing for this dataset)\n",
    "aam = zonalavg_UDP * np.cos(lats[:,0] * rad) * np.cos(lats[:,0] * rad) * dlat * 2.* pi * earth_r**3 / gravity #Calculate AAM"
   ]
  },
  {
   "cell_type": "markdown",
   "metadata": {},
   "source": [
    "### Result\n",
    "##### aam represents the atmosphere's relative angular momentum by latitude (181 values in this example)"
   ]
  },
  {
   "cell_type": "code",
   "execution_count": 121,
   "metadata": {
    "collapsed": false
   },
   "outputs": [],
   "source": [
    "fcst_aam = np.sum(aam) #Sum all latitudes to get total forecast AAM"
   ]
  },
  {
   "cell_type": "markdown",
   "metadata": {},
   "source": [
    "### Read in climatology data"
   ]
  },
  {
   "cell_type": "code",
   "execution_count": 122,
   "metadata": {
    "collapsed": false
   },
   "outputs": [],
   "source": [
    "df = pd.read_csv('/home/vgensini/data/aam_climo.csv')\n",
    "format = '%Y-%m-%d-%H'\n",
    "df['date']=pd.to_datetime(df['date'], format=format)\n",
    "df=df.set_index(pd.DatetimeIndex(df['date']))\n",
    "df['yr'], df['mn'], df['dy'], df['hr'] = df['date'].dt.year, df['date'].dt.month, df['date'].dt.day, df['date'].dt.hour\n",
    "climo_aam = df.aam[(df.mn==month) & (df.dy==day) & (df.hr==hour)].mean()\n",
    "stdev_climo_aam = df.aam[(df.mn==month) & (df.dy==day) & (df.hr==hour)].std()"
   ]
  },
  {
   "cell_type": "markdown",
   "metadata": {},
   "source": [
    "### Calculate the standardized anomaly"
   ]
  },
  {
   "cell_type": "code",
   "execution_count": 123,
   "metadata": {
    "collapsed": false
   },
   "outputs": [
    {
     "name": "stdout",
     "output_type": "stream",
     "text": [
      "0.334064381738\n"
     ]
    }
   ],
   "source": [
    "print (fcst_aam-climo_aam)/stdev_climo_aam"
   ]
  }
 ],
 "metadata": {
  "anaconda-cloud": {},
  "kernelspec": {
   "display_name": "Python [conda root]",
   "language": "python",
   "name": "conda-root-py"
  },
  "language_info": {
   "codemirror_mode": {
    "name": "ipython",
    "version": 2
   },
   "file_extension": ".py",
   "mimetype": "text/x-python",
   "name": "python",
   "nbconvert_exporter": "python",
   "pygments_lexer": "ipython2",
   "version": "2.7.12"
  }
 },
 "nbformat": 4,
 "nbformat_minor": 1
}
