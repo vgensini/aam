{
 "cells": [
  {
   "cell_type": "markdown",
   "metadata": {
    "collapsed": true
   },
   "source": [
    "## Yearly Relative Atmospheric Angular Momentum Standard Anomalies\n",
    "###### Inputs: aam_anoms.csv (created using the AAM.ipynb found in this repository)\n",
    "##### Created by: Dr. Victor Gensini (Fall 2016) | http://weather.cod.edu/~vgensini\n",
    "##### More information can be found here: http://nbviewer.jupyter.org/github/vgensini/aam/blob/master/notebooks/AAM_climo.ipynb\n",
    "##### Relative AAM is calculated following:\n",
    "$$M_R=\\frac{a^3}g\\int\\limits_{-\\frac\\pi2}^{\\frac\\pi2}\\int\\limits_0^{2\\pi}\\int\\limits_1^{1000}\\cos^2\\phi{d}\\phi{d}\\lambda{udp}$$"
   ]
  },
  {
   "cell_type": "code",
   "execution_count": 67,
   "metadata": {
    "collapsed": true
   },
   "outputs": [],
   "source": [
    "#Import neccessary Python libraries (this example uses Python 2.7)\n",
    "import numpy as np\n",
    "import plotly.plotly as py\n",
    "import plotly.graph_objs as go\n",
    "import datetime"
   ]
  },
  {
   "cell_type": "markdown",
   "metadata": {},
   "source": [
    "### Read in relative AAM anomaly file\n",
    "##### 6-hourly climatology file (aam_anoms.csv) which can be found in this repository: https://github.com/vgensini/aam\n",
    "##### csv headers = mn,dy,hr,1979,1980,1981,1982,1983,1984,1985,1986,1987,1988,1989,1990,1991,1992,1993,1994,1995,1996,1997,1998,1999,2000,2001,2002,2003,2004,2005,2006,2007,2008,2009,2010"
   ]
  },
  {
   "cell_type": "code",
   "execution_count": 68,
   "metadata": {
    "collapsed": false,
    "scrolled": true
   },
   "outputs": [
    {
     "name": "stdout",
     "output_type": "stream",
     "text": [
      "The draw time for this plot will be slow for clients without much RAM.\n"
     ]
    },
    {
     "data": {
      "text/html": [
       "<iframe id=\"igraph\" scrolling=\"no\" style=\"border:none;\" seamless=\"seamless\" src=\"https://plot.ly/~vgensini/56.embed\" height=\"525px\" width=\"100%\"></iframe>"
      ],
      "text/plain": [
       "<plotly.tools.PlotlyDisplay object>"
      ]
     },
     "execution_count": 68,
     "metadata": {},
     "output_type": "execute_result"
    }
   ],
   "source": [
    "data=np.genfromtxt('/home/scripts/aam/aam_code/aam_anoms.csv', delimiter=',',names=True,dtype=None)\n",
    "begdate = datetime.datetime.strptime(\"010100\",\"%m%d%H\")\n",
    "enddate = datetime.datetime.strptime(\"123118\",\"%m%d%H\")\n",
    "dates = []\n",
    "while begdate <= enddate:\n",
    "    dates.append(begdate)\n",
    "    begdate+=datetime.timedelta(hours=6)\n",
    "\n",
    "aamdata=[]\n",
    "for year in data.dtype.names[3:]:\n",
    "    aam = go.Scatter(x=dates, y=data[year],name=year)\n",
    "    aamdata.append(aam)\n",
    "layout = go.Layout(title='CFSR Relative AAM Standardized Anomalies by Year',xaxis=dict(showticklabels=False))\n",
    "fig = go.Figure(data=aamdata, layout=layout)\n",
    "py.iplot(fig)"
   ]
  }
 ],
 "metadata": {
  "anaconda-cloud": {},
  "kernelspec": {
   "display_name": "Python [conda root]",
   "language": "python",
   "name": "conda-root-py"
  },
  "language_info": {
   "codemirror_mode": {
    "name": "ipython",
    "version": 2
   },
   "file_extension": ".py",
   "mimetype": "text/x-python",
   "name": "python",
   "nbconvert_exporter": "python",
   "pygments_lexer": "ipython2",
   "version": "2.7.12"
  }
 },
 "nbformat": 4,
 "nbformat_minor": 1
}
