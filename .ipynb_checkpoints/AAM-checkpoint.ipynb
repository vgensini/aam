{
 "cells": [
  {
   "cell_type": "markdown",
   "metadata": {
    "collapsed": true
   },
   "source": [
    "## Compute Global Relative Atmospheric Angular Momentum From CFS Reanalysis Data\n",
    "###### Inputs: 0.5 deg lat/lon grid data obtained from CFS Reanalysis (CFSR) | Need u-wind at all pressure levels 1000-1 hPa\t\t\t\n",
    "###### Outputs: Global Relative Atmospheric Angular Momentum kg*m^2/s\n",
    "#### Created by: Victor Gensini (Fall 2016)\t\t\t\t\t\t\t\t"
   ]
  },
  {
   "cell_type": "code",
   "execution_count": 127,
   "metadata": {
    "collapsed": true
   },
   "outputs": [],
   "source": [
    "#Import neccessary Python libraries (using Python 2.7)\n",
    "import numpy as np\n",
    "import math, pygrib\n",
    "import matplotlib.pyplot as plt"
   ]
  },
  {
   "cell_type": "code",
   "execution_count": 128,
   "metadata": {
    "collapsed": false
   },
   "outputs": [],
   "source": [
    "#Declare physical constants\n",
    "pi = math.pi #Pi\n",
    "rad = pi/180. #radians\n",
    "gravity = 9.81 #gravitational acceleration ms^-2\n",
    "earth_r = 6371220. #Earth's radius in (m)"
   ]
  },
  {
   "cell_type": "markdown",
   "metadata": {},
   "source": [
    "### Pick a datetime for calculation (valid 1979-2010)"
   ]
  },
  {
   "cell_type": "code",
   "execution_count": 129,
   "metadata": {
    "collapsed": true
   },
   "outputs": [],
   "source": [
    "year = 2006 #1979-2010\n",
    "month = 1 #1-12\n",
    "day = 22 #1-28, 1-30, 1-31\n",
    "hour = 0 #0,6,12,18"
   ]
  },
  {
   "cell_type": "markdown",
   "metadata": {},
   "source": [
    "### Open a CFSR grib2 file\n",
    "##### Data for this example obtained from: http://rda.ucar.edu/datasets/ds093.0/\n",
    "##### 6-hrly data also available from: http://nomads.ncdc.noaa.gov/modeldata/cmd_pgbh/"
   ]
  },
  {
   "cell_type": "code",
   "execution_count": 130,
   "metadata": {
    "collapsed": true
   },
   "outputs": [],
   "source": [
    "#I've concatenated CFSR 6-hrly data into monthly chunks following a format of <cfsr_YYYYMM.grb2>\n",
    "data_file = '/home/vgensini/data/CFSR/cfsr_'+str(year)+str('%02d'%month)+'.grb2'"
   ]
  },
  {
   "cell_type": "code",
   "execution_count": 131,
   "metadata": {
    "collapsed": false
   },
   "outputs": [],
   "source": [
    "gr = pygrib.open(data_file) #Read CFSR grib2 file containing u-winds at all pressure levels into memory"
   ]
  },
  {
   "cell_type": "markdown",
   "metadata": {},
   "source": [
    "### Read in all U-component (i.e., zonal) wind values and select your datetime"
   ]
  },
  {
   "cell_type": "code",
   "execution_count": 132,
   "metadata": {
    "collapsed": true
   },
   "outputs": [],
   "source": [
    "umsgs = gr.select(name='U component of wind',typeOfLevel='isobaricInhPa', year=year,month=month,day=day, hour=hour)"
   ]
  },
  {
   "cell_type": "code",
   "execution_count": 133,
   "metadata": {
    "collapsed": true
   },
   "outputs": [],
   "source": [
    "lats,lons = umsgs[0].latlons() #Read the lat/lon information from the u-wind grib2 message"
   ]
  },
  {
   "cell_type": "code",
   "execution_count": 134,
   "metadata": {
    "collapsed": true
   },
   "outputs": [],
   "source": [
    "uwnd = np.zeros((361, 720, 37)) #Could do some fancy dynamic shape finding here\n",
    "for i,levs in enumerate(umsgs): #CFSR 0.5 data is x-720,y-361,z-37\n",
    "    uwnd[:,:,i] = levs.values   #Read zonal wind into a 3-D NumPy array"
   ]
  },
  {
   "cell_type": "code",
   "execution_count": 135,
   "metadata": {
    "collapsed": false
   },
   "outputs": [],
   "source": [
    "#dp is difference between CFSR pressure levels in Pa | set lowest and highest dp to zero\n",
    "#Vertical level information can be found here: http://rda.ucar.edu/datasets/ds093.0/#metadata/detailed.html?_do=y\n",
    "#dps=[0.,100.,200.,200.,300.,1000.,1000.,2000.,2000.,3000.,2500.,2500.,2500.,2500.,2500.,2500.,5000.,5000.,5000.,5000.,5000.,5000.,5000.,5000.,5000.,5000.,2500.,2500.,2500.,2500.,2500.,2500.,2500.,2500.,2500.,2500.,0.]\n",
    "dps=[0.,1.,2.,2.,3.,10.,10.,20.,20.,30.,25.,25.,25.,25.,25.,25.,50.,50.,50.,50.,50.,50.,50.,50.,50.,50.,25.,25.,25.,25.,25.,25.,25.,25.,25.,25.,0.]\n",
    "dps = np.tile(np.array(dps),(361,720,1)) #Create a 3-D NumPy array of dp values"
   ]
  },
  {
   "cell_type": "markdown",
   "metadata": {},
   "source": [
    "### Calculations"
   ]
  },
  {
   "cell_type": "code",
   "execution_count": 136,
   "metadata": {
    "collapsed": false
   },
   "outputs": [],
   "source": [
    "UDP = np.multiply(uwnd,dps)\n",
    "level_UDP = np.sum(UDP, axis=(2)) #Take sum across all levels\n",
    "zonalavg_UDP = np.mean(level_UDP, axis=(1)) #Take mean across all longitudes\n",
    "#zonalavg_UDP = np.mean(UDP, axis=(1,2)) #Take mean across all longitudes and levels\n",
    "#aam = np.multiply(np.multiply(zonalavg_UDP,np.cos(lats[:,0]*rad)),2.*pi*earth_r**3/gravity) #latitude contribution to AAM\n",
    "aam = np.multiply(np.multiply(zonalavg_UDP,np.cos(lats[:,0]*rad)),2.*pi*(earth_r**3/gravity))"
   ]
  },
  {
   "cell_type": "markdown",
   "metadata": {},
   "source": [
    "### Result\n",
    "##### aam represents global atmospheric relative angular momentum by latitude (361 values)"
   ]
  },
  {
   "cell_type": "code",
   "execution_count": 137,
   "metadata": {
    "collapsed": false
   },
   "outputs": [
    {
     "name": "stdout",
     "output_type": "stream",
     "text": [
      "2.29633008139e+26\n"
     ]
    }
   ],
   "source": [
    "print np.sum(aam) #Sum all latitudes to get total AAM"
   ]
  },
  {
   "cell_type": "markdown",
   "metadata": {},
   "source": [
    "### Create a plot"
   ]
  },
  {
   "cell_type": "code",
   "execution_count": 138,
   "metadata": {
    "collapsed": false
   },
   "outputs": [
    {
     "data": {
      "image/png": "[encoded data removed]",
      "text/plain": [
       "<matplotlib.figure.Figure at 0x7f3323414390>"
      ]
     },
     "metadata": {},
     "output_type": "display_data"
    }
   ],
   "source": [
    "plt.plot(lats[:,0],aam) # plot latitude (x-axis) by global relative aam (y-axis)\n",
    "plt.title('Relative AAM by Latitude for ' +str(month)+'-'+str(day)+'-'+str(year)+' '+str(hour)+'Z') #Make a title\n",
    "plt.xlabel(r\"$\\phi$\") #Label x-axis\n",
    "plt.ylabel('AAM   ('r\"$kg \\cdot m^2 \\cdot s^-1$)\") #Label y-axis\n",
    "plt.xlim(-90,90) #Set limits on the x-axis\n",
    "plt.xticks(np.arange(-90,110,20)) #Set x-axis ticks every 20 deg\n",
    "plt.tight_layout() #Make a nice layout\n",
    "plt.annotate('Total AMM = '+'{:e}'.format(np.sum(aam)),xycoords='figure fraction', xytext=(.5,0.05),xy=(.5,0.05), textcoords='axes fraction') #Annotate total AAM on the plot\n",
    "plt.show() #Display the plot"
   ]
  }
 ],
 "metadata": {
  "anaconda-cloud": {},
  "kernelspec": {
   "display_name": "Python [conda root]",
   "language": "python",
   "name": "conda-root-py"
  },
  "language_info": {
   "codemirror_mode": {
    "name": "ipython",
    "version": 2
   },
   "file_extension": ".py",
   "mimetype": "text/x-python",
   "name": "python",
   "nbconvert_exporter": "python",
   "pygments_lexer": "ipython2",
   "version": "2.7.12"
  }
 },
 "nbformat": 4,
 "nbformat_minor": 1
}
